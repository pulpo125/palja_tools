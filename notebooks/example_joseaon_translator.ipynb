{
 "cells": [
  {
   "cell_type": "markdown",
   "id": "68b7f245",
   "metadata": {},
   "source": [
    "### 기본 실행"
   ]
  },
  {
   "cell_type": "code",
   "execution_count": 1,
   "id": "bb5a74b6",
   "metadata": {},
   "outputs": [
    {
     "name": "stdout",
     "output_type": "stream",
     "text": [
      "본래 한 시에 만나기로 하였으나, 두 시에 시작하여 조선실록체 변환기를 제작하였노라.\n"
     ]
    }
   ],
   "source": [
    "from src.tools.joseon_translator import run\n",
    "\n",
    "input = \"원래 1시에 만나기로 했는데, 2시에 시작해서 조선실록체 변환기를 만들었다.\"\n",
    "result = run(input)\n",
    "print(result)"
   ]
  },
  {
   "cell_type": "markdown",
   "id": "470fa60e",
   "metadata": {},
   "source": [
    "### 실험 방법"
   ]
  },
  {
   "cell_type": "code",
   "execution_count": 2,
   "id": "9ba78ed6",
   "metadata": {},
   "outputs": [
    {
     "name": "stdout",
     "output_type": "stream",
     "text": [
      "본래 한 시에 만나기로 하였으나, 두 시에 시작하여 조선실록체 변환기를 제작하였느니라.\n"
     ]
    }
   ],
   "source": [
    "from textwrap import dedent\n",
    "from src.tools.joseon_translator import build_chain\n",
    "\n",
    "EXP_PROMPT = dedent(\n",
    "    \"\"\"\n",
    "        # Role\n",
    "        너는 조선시대 문인이다.    \n",
    "        \n",
    "        # Objective\n",
    "        조선시대 문인으로서, 현대 한국어로 작성된 글을 조선시대 문체로 번역하는 역할을 한다.\n",
    "        \n",
    "        # Instructions\n",
    "        - 현대 한국어로 작성된 글을 조선실록체로 번역하라.\n",
    "        - 한자는 사용하지 않는다.\n",
    "\n",
    "        # Example\n",
    "        - 아래는 조선실록체 예시입니다. 조선실록체의 특징을 잘 살려서 번역하세요.\n",
    "        \n",
    "        {example}\n",
    "        \"\"\"\n",
    ")\n",
    "\n",
    "example = dedent(\n",
    "    \"\"\"\n",
    "    첫째는 기강(紀綱)을 세우는 일입니다. 나라를 잘 다스리는 사람은 그 편안함과 위태한 것은 보지 않고 기강(紀綱)이 서지 않은 것을 걱정하는 것입니다. 옛날에 주(周)나라가 쇠약하매 제후(諸侯)들이 방자(放恣)했는데, 수십 대(代)를 전하여도 세상이 기울어지지 않은 것은 기강(紀綱)이 존재했기 때문이오니, 원하옵건대, 전하께서는 앞 시대의 흥망(興亡)을 거울로 삼아 일대(一代)의 기강(紀綱)을 세워 후손에게 좋은 계책을 물려주어 만세(萬世)에 전하게 하소서.\n",
    "    \"\"\"\n",
    ")\n",
    "\n",
    "chain = build_chain(prompt=EXP_PROMPT, input_variables=[\"input\", \"example\"])\n",
    "response = chain.invoke({\"input\": input, \"example\": example})\n",
    "print(response.content)"
   ]
  },
  {
   "cell_type": "code",
   "execution_count": null,
   "id": "35b119f6",
   "metadata": {},
   "outputs": [],
   "source": []
  }
 ],
 "metadata": {
  "kernelspec": {
   "display_name": "palja",
   "language": "python",
   "name": "python3"
  },
  "language_info": {
   "codemirror_mode": {
    "name": "ipython",
    "version": 3
   },
   "file_extension": ".py",
   "mimetype": "text/x-python",
   "name": "python",
   "nbconvert_exporter": "python",
   "pygments_lexer": "ipython3",
   "version": "3.12.9"
  }
 },
 "nbformat": 4,
 "nbformat_minor": 5
}
